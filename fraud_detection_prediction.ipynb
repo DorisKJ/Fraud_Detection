{
 "cells": [
  {
   "cell_type": "code",
   "execution_count": null,
   "id": "576094cd",
   "metadata": {},
   "outputs": [],
   "source": [
    "# Fraud detection Preprocessing\n",
    "## 1. Overview\n",
    "Fraudulent activities, whether initiated through phone calls, emails, or face-to-face interactions, pose a significant threat to individuals on a daily basis. Recognizing the warning signs of scams is crucial in safeguarding against financial losses. In this project, I aim to develop a predictive model to ascertain whether a fraud incident results in monetary loss. I am using a dataset from the Canadian Anti-Fraud Centre, specifically the [Fraud Reporting System database](https://open.canada.ca/data/en/dataset/6a09c998-cddb-4a22-beff-4dca67ab892f), which gathers reports from different places, including online submissions by people. The data spans from 2021 to 2023. All the files for this project are available for [download](https://github.com/DorisKJ/Fraud_Detection)."
   ]
  }
 ],
 "metadata": {
  "kernelspec": {
   "display_name": "Python 3 (ipykernel)",
   "language": "python",
   "name": "python3"
  },
  "language_info": {
   "codemirror_mode": {
    "name": "ipython",
    "version": 3
   },
   "file_extension": ".py",
   "mimetype": "text/x-python",
   "name": "python",
   "nbconvert_exporter": "python",
   "pygments_lexer": "ipython3",
   "version": "3.9.7"
  }
 },
 "nbformat": 4,
 "nbformat_minor": 5
}
